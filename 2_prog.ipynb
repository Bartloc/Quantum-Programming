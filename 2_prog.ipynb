{
 "cells": [
  {
   "cell_type": "code",
   "execution_count": 1,
   "metadata": {},
   "outputs": [],
   "source": [
    "import qiskit as qk"
   ]
  },
  {
   "cell_type": "code",
   "execution_count": 2,
   "metadata": {},
   "outputs": [
    {
     "data": {
      "text/plain": [
       "<qiskit.circuit.instructionset.InstructionSet at 0x1231e47eac8>"
      ]
     },
     "execution_count": 2,
     "metadata": {},
     "output_type": "execute_result"
    }
   ],
   "source": [
    "qr =qk.QuantumRegister(2)\n",
    "cr = qk.ClassicalRegister(2)\n",
    "qc = qk.QuantumCircuit(qr,cr)\n",
    "qc.x(qr[0])\n",
    "qc.h(qr[0])\n",
    "qc.h(qr[1])\n",
    "qc.cx(qr[1],qr[0])\n",
    "\n"
   ]
  },
  {
   "cell_type": "code",
   "execution_count": 3,
   "metadata": {},
   "outputs": [
    {
     "data": {
      "text/html": [
       "<pre style=\"word-wrap: normal;white-space: pre;background: #fff0;line-height: 1.1;font-family: &quot;Courier New&quot;,Courier,monospace\">      ┌───┐┌───┐┌───┐\n",
       "q0_0: ┤ X ├┤ H ├┤ X ├\n",
       "      ├───┤└───┘└─┬─┘\n",
       "q0_1: ┤ H ├───────■──\n",
       "      └───┘          \n",
       "c0: 2/═══════════════\n",
       "                     </pre>"
      ],
      "text/plain": [
       "      ┌───┐┌───┐┌───┐\n",
       "q0_0: ┤ X ├┤ H ├┤ X ├\n",
       "      ├───┤└───┘└─┬─┘\n",
       "q0_1: ┤ H ├───────■──\n",
       "      └───┘          \n",
       "c0: 2/═══════════════\n",
       "                     "
      ]
     },
     "execution_count": 3,
     "metadata": {},
     "output_type": "execute_result"
    }
   ],
   "source": [
    "qc.draw()"
   ]
  },
  {
   "cell_type": "code",
   "execution_count": 4,
   "metadata": {},
   "outputs": [
    {
     "data": {
      "text/html": [
       "<pre style=\"word-wrap: normal;white-space: pre;background: #fff0;line-height: 1.1;font-family: &quot;Courier New&quot;,Courier,monospace\">      ┌─┐   \n",
       "q0_0: ┤M├───\n",
       "      └╥┘┌─┐\n",
       "q0_1: ─╫─┤M├\n",
       "       ║ └╥┘\n",
       "c0: 2/═╩══╩═\n",
       "       0  1 </pre>"
      ],
      "text/plain": [
       "      ┌─┐   \n",
       "q0_0: ┤M├───\n",
       "      └╥┘┌─┐\n",
       "q0_1: ─╫─┤M├\n",
       "       ║ └╥┘\n",
       "c0: 2/═╩══╩═\n",
       "       0  1 "
      ]
     },
     "execution_count": 4,
     "metadata": {},
     "output_type": "execute_result"
    }
   ],
   "source": [
    "mes_Z = qk.QuantumCircuit(qr,cr)\n",
    "mes_Z.measure(qr,cr)\n",
    "mes_Z.draw()"
   ]
  },
  {
   "cell_type": "code",
   "execution_count": 268,
   "metadata": {},
   "outputs": [
    {
     "data": {
      "text/html": [
       "<pre style=\"word-wrap: normal;white-space: pre;line-height: 15px;\">          ┌───┐┌───┐┌───┐┌─┐   \n",
       "q23_0: |0>┤ X ├┤ H ├┤ X ├┤M├───\n",
       "          ├───┤└───┘└─┬─┘└╥┘┌─┐\n",
       "q23_1: |0>┤ H ├───────■───╫─┤M├\n",
       "          └───┘           ║ └╥┘\n",
       " c23_0: 0 ════════════════╩══╬═\n",
       "                             ║ \n",
       " c23_1: 0 ═══════════════════╩═\n",
       "                               </pre>"
      ],
      "text/plain": [
       "<qiskit.visualization.text.TextDrawing at 0x126e7e10>"
      ]
     },
     "execution_count": 268,
     "metadata": {},
     "output_type": "execute_result"
    }
   ],
   "source": [
    "test_Z = qc + mes_Z\n",
    "test_Z.draw()"
   ]
  },
  {
   "cell_type": "code",
   "execution_count": 275,
   "metadata": {},
   "outputs": [],
   "source": [
    "from qiskit import BasicAer\n",
    "my_backend = BasicAer.get_backend(\"qasm_simulator\")\n",
    "job_1=qk.execute([test_Z],backend=my_backend,shots=1000)"
   ]
  },
  {
   "cell_type": "code",
   "execution_count": 276,
   "metadata": {},
   "outputs": [],
   "source": [
    "res_1=job_1.result()"
   ]
  },
  {
   "cell_type": "code",
   "execution_count": 277,
   "metadata": {},
   "outputs": [],
   "source": [
    "R1=res_1.get_counts(test_Z)"
   ]
  },
  {
   "cell_type": "code",
   "execution_count": 278,
   "metadata": {},
   "outputs": [],
   "source": [
    "from qiskit.tools.visualization import plot_histogram\n"
   ]
  },
  {
   "cell_type": "code",
   "execution_count": 279,
   "metadata": {},
   "outputs": [
    {
     "data": {
      "image/png": "[encoded data removed]",
      "text/plain": [
       "<Figure size 504x360 with 1 Axes>"
      ]
     },
     "execution_count": 279,
     "metadata": {},
     "output_type": "execute_result"
    }
   ],
   "source": [
    "plot_histogram(R1)"
   ]
  },
  {
   "cell_type": "code",
   "execution_count": null,
   "metadata": {},
   "outputs": [],
   "source": []
  },
  {
   "cell_type": "code",
   "execution_count": null,
   "metadata": {},
   "outputs": [],
   "source": []
  }
 ],
 "metadata": {
  "kernelspec": {
   "display_name": "Python 3",
   "language": "python",
   "name": "python3"
  },
  "language_info": {
   "codemirror_mode": {
    "name": "ipython",
    "version": 3
   },
   "file_extension": ".py",
   "mimetype": "text/x-python",
   "name": "python",
   "nbconvert_exporter": "python",
   "pygments_lexer": "ipython3",
   "version": "3.7.5"
  }
 },
 "nbformat": 4,
 "nbformat_minor": 2
}
